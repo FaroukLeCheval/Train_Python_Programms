{
 "cells": [
  {
   "cell_type": "markdown",
   "id": "e9e307d9-8460-4203-b94c-406b98c45f08",
   "metadata": {},
   "source": [
    "# Broadcasting \n",
    "### --> Permet de faire facilement des opération entre des tableaux via Numpy"
   ]
  },
  {
   "cell_type": "markdown",
   "id": "367c404e-2708-4ed7-ad34-d1e5d5200b6d",
   "metadata": {},
   "source": [
    "# Import des packages"
   ]
  },
  {
   "cell_type": "code",
   "execution_count": null,
   "id": "53a78844-efa5-43ac-85a2-e6704d1db37a",
   "metadata": {},
   "outputs": [],
   "source": [
    "import numpy as np"
   ]
  },
  {
   "cell_type": "markdown",
   "id": "d3c8849e-3bce-4c25-9288-d3ef94b4a4d5",
   "metadata": {},
   "source": [
    "# Premiers Tests"
   ]
  },
  {
   "cell_type": "code",
   "execution_count": 18,
   "id": "e2075d9d-1dd6-43b2-9436-df37396c3c17",
   "metadata": {},
   "outputs": [],
   "source": [
    "np.random.seed(0)\n",
    "A = np.random.randint(0,10,[2,3])\n",
    "B = np.ones((3,1))"
   ]
  },
  {
   "cell_type": "code",
   "execution_count": 16,
   "id": "5298a8f9-0258-41ce-86cc-d918b52daf71",
   "metadata": {},
   "outputs": [
    {
     "data": {
      "text/plain": [
       "array([[5, 0, 3],\n",
       "       [3, 7, 9]])"
      ]
     },
     "execution_count": 16,
     "metadata": {},
     "output_type": "execute_result"
    }
   ],
   "source": [
    "A"
   ]
  },
  {
   "cell_type": "code",
   "execution_count": 19,
   "id": "56dbf763-40c3-4388-aae8-c4338de6c444",
   "metadata": {},
   "outputs": [
    {
     "data": {
      "text/plain": [
       "array([[1.],\n",
       "       [1.],\n",
       "       [1.]])"
      ]
     },
     "execution_count": 19,
     "metadata": {},
     "output_type": "execute_result"
    }
   ],
   "source": [
    "B"
   ]
  },
  {
   "cell_type": "code",
   "execution_count": 20,
   "id": "bd12f0cf-108f-4289-b625-5496b569439e",
   "metadata": {},
   "outputs": [
    {
     "ename": "ValueError",
     "evalue": "operands could not be broadcast together with shapes (2,3) (3,1) ",
     "output_type": "error",
     "traceback": [
      "\u001b[1;31m---------------------------------------------------------------------------\u001b[0m",
      "\u001b[1;31mValueError\u001b[0m                                Traceback (most recent call last)",
      "Cell \u001b[1;32mIn[20], line 1\u001b[0m\n\u001b[1;32m----> 1\u001b[0m A \u001b[38;5;241m+\u001b[39m B\n",
      "\u001b[1;31mValueError\u001b[0m: operands could not be broadcast together with shapes (2,3) (3,1) "
     ]
    }
   ],
   "source": [
    "A + B # On ne peu faire ce genre d'opération qu'avec des tableaux qui ont les même dimensions (pas vraiment)"
   ]
  },
  {
   "cell_type": "markdown",
   "id": "67f64c58-bc5f-4768-9b33-defa7e7678ed",
   "metadata": {},
   "source": [
    "# Exstension de certaines dimensions de mes tableaux (Broadcasting)"
   ]
  },
  {
   "cell_type": "code",
   "execution_count": 10,
   "id": "80165af9-72a4-46f2-b764-ef5472a57219",
   "metadata": {},
   "outputs": [
    {
     "data": {
      "text/plain": [
       "array([[ 7,  2,  5],\n",
       "       [ 5,  9, 11]])"
      ]
     },
     "execution_count": 10,
     "metadata": {},
     "output_type": "execute_result"
    }
   ],
   "source": [
    "A + 2"
   ]
  },
  {
   "cell_type": "markdown",
   "id": "3dac19e9-8568-4000-9839-2e941d95b43a",
   "metadata": {},
   "source": [
    "### Quand on fait du Broadcasting, il y a des règles à suivre\n",
    "##### - Chacune des dimensions dans A et dans B, doivent être égale de maniere respective\n",
    "##### - Si on a des dimensions différentes alors la dimensions respective était égale à 1"
   ]
  },
  {
   "cell_type": "markdown",
   "id": "de02de35-36c7-42a0-84a6-6e7b275e7213",
   "metadata": {},
   "source": [
    "### Exercice\n",
    "##### résultat d'une somme entre une matrice (4,1) et une matrice (1,3)"
   ]
  },
  {
   "cell_type": "code",
   "execution_count": 22,
   "id": "4d5343ed-1855-49ae-b26c-79ece36c5a0b",
   "metadata": {},
   "outputs": [
    {
     "data": {
      "text/plain": [
       "array([[8., 8., 8.],\n",
       "       [7., 7., 7.],\n",
       "       [9., 9., 9.],\n",
       "       [9., 9., 9.]])"
      ]
     },
     "execution_count": 22,
     "metadata": {},
     "output_type": "execute_result"
    }
   ],
   "source": [
    "A = np.random.randint(0,10,[4,1])\n",
    "B = np.ones((1,3))\n",
    "A + B # le Vecteur A et le Vecteur B vont mutuellement sétendre l'un sur l'autre pour couvrir une surface de (4,3)"
   ]
  },
  {
   "cell_type": "markdown",
   "id": "f5bfd0d7-650d-44c0-b5ad-96ce7a90db90",
   "metadata": {},
   "source": [
    "### Attention /!\\"
   ]
  },
  {
   "cell_type": "code",
   "execution_count": 24,
   "id": "462cb70c-4513-44c4-ab51-f2e4ac50006f",
   "metadata": {},
   "outputs": [
    {
     "data": {
      "text/plain": [
       "array([[ 9.,  9.,  9.],\n",
       "       [ 2.,  2.,  2.],\n",
       "       [ 6.,  6.,  6.],\n",
       "       [10., 10., 10.]])"
      ]
     },
     "execution_count": 24,
     "metadata": {},
     "output_type": "execute_result"
    }
   ],
   "source": [
    "A = np.random.randint(0,10,[4,1])\n",
    "B = np.ones((3,))\n",
    "A + B # On obtient le même exact résultat car lorsqu'on écris des dimensions incomplètes, \n",
    "      # le 3 ici est considéré comme la dernière dimension du tableau, (ici l'axe 1)"
   ]
  },
  {
   "cell_type": "markdown",
   "id": "862077f8-8685-4077-ae1a-5df938a2a7c2",
   "metadata": {},
   "source": [
    "##### Toujours vérifier les dimensions de nos tableaux (utiliser la fonction .reshape() pour redimensionner nos tableaux lorsqu'il sont incomplets"
   ]
  }
 ],
 "metadata": {
  "kernelspec": {
   "display_name": "Python 3 (ipykernel)",
   "language": "python",
   "name": "python3"
  },
  "language_info": {
   "codemirror_mode": {
    "name": "ipython",
    "version": 3
   },
   "file_extension": ".py",
   "mimetype": "text/x-python",
   "name": "python",
   "nbconvert_exporter": "python",
   "pygments_lexer": "ipython3",
   "version": "3.12.7"
  }
 },
 "nbformat": 4,
 "nbformat_minor": 5
}
