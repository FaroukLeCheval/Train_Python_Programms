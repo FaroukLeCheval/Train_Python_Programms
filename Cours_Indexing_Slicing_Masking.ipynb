{
 "cells": [
  {
   "cell_type": "markdown",
   "id": "81bf6f44-a795-44f1-98bf-50afac76a2a2",
   "metadata": {},
   "source": [
    "# Import des packages"
   ]
  },
  {
   "cell_type": "code",
   "execution_count": 2,
   "id": "95fc4349-9bc2-4a89-ad07-fe2818029955",
   "metadata": {},
   "outputs": [],
   "source": [
    "import numpy as np"
   ]
  },
  {
   "cell_type": "markdown",
   "id": "c71fb19d-9e15-464f-bdec-096cc33a12c2",
   "metadata": {},
   "source": [
    "# Les tableaux à n dimensions\n",
    "##### On travail souvent dans des tableaux à 2 dimensions\n",
    "##### Axe 0 -> lignes; Axe 1 -> colonnes\n",
    "##### Quand on se déplace sur un axe à la fois, notre position change sur cet Axe uniquement\n",
    "##### on indique donc des index pour se repérer"
   ]
  },
  {
   "cell_type": "code",
   "execution_count": 3,
   "id": "f7dff8d8-225b-4fae-8624-a09f221f0cf4",
   "metadata": {},
   "outputs": [
    {
     "data": {
      "text/plain": [
       "array([[1, 2, 3],\n",
       "       [4, 5, 6],\n",
       "       [7, 8, 9]])"
      ]
     },
     "execution_count": 3,
     "metadata": {},
     "output_type": "execute_result"
    }
   ],
   "source": [
    "A = np.array([[1,2,3],[4,5,6],[7,8,9]])\n",
    "A"
   ]
  },
  {
   "cell_type": "code",
   "execution_count": 4,
   "id": "df8643aa-d791-42fe-b6b6-9d813ff90d88",
   "metadata": {},
   "outputs": [
    {
     "data": {
      "text/plain": [
       "5"
      ]
     },
     "execution_count": 4,
     "metadata": {},
     "output_type": "execute_result"
    }
   ],
   "source": [
    "A[1,1]"
   ]
  },
  {
   "cell_type": "code",
   "execution_count": null,
   "id": "208371c6-7895-4102-a5f2-5621fddb6368",
   "metadata": {},
   "outputs": [],
   "source": []
  },
  {
   "cell_type": "code",
   "execution_count": null,
   "id": "73f6288c-fef7-489d-a6ca-3c3718d0954d",
   "metadata": {},
   "outputs": [],
   "source": []
  }
 ],
 "metadata": {
  "kernelspec": {
   "display_name": "Python 3 (ipykernel)",
   "language": "python",
   "name": "python3"
  },
  "language_info": {
   "codemirror_mode": {
    "name": "ipython",
    "version": 3
   },
   "file_extension": ".py",
   "mimetype": "text/x-python",
   "name": "python",
   "nbconvert_exporter": "python",
   "pygments_lexer": "ipython3",
   "version": "3.12.7"
  }
 },
 "nbformat": 4,
 "nbformat_minor": 5
}
