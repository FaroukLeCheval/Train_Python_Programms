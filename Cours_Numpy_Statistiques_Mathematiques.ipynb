{
 "cells": [
  {
   "cell_type": "markdown",
   "id": "1c6aa408-4425-4d8a-aea6-fd49a843207d",
   "metadata": {},
   "source": [
    "# Import des packages"
   ]
  },
  {
   "cell_type": "code",
   "execution_count": 1,
   "id": "c27207c5-8470-4a4f-bd7e-53a47228444e",
   "metadata": {},
   "outputs": [],
   "source": [
    "import numpy as np"
   ]
  },
  {
   "cell_type": "markdown",
   "id": "cc794241-e593-47d2-af64-64413852317f",
   "metadata": {},
   "source": [
    "# Méthodes ndarray"
   ]
  },
  {
   "cell_type": "code",
   "execution_count": 2,
   "id": "90d0f226-76ee-4868-a133-13dc9d18bf55",
   "metadata": {},
   "outputs": [
    {
     "data": {
      "text/plain": [
       "array([[5, 0, 3],\n",
       "       [3, 7, 9]])"
      ]
     },
     "execution_count": 2,
     "metadata": {},
     "output_type": "execute_result"
    }
   ],
   "source": [
    "np.random.seed(0)\n",
    "A = np.random.randint(0,10, [2,3])\n",
    "A"
   ]
  },
  {
   "cell_type": "code",
   "execution_count": 4,
   "id": "5de417d3-3036-47fd-9673-339475ad92a8",
   "metadata": {},
   "outputs": [
    {
     "data": {
      "text/plain": [
       "27"
      ]
     },
     "execution_count": 4,
     "metadata": {},
     "output_type": "execute_result"
    }
   ],
   "source": [
    "A.sum()"
   ]
  },
  {
   "cell_type": "code",
   "execution_count": 7,
   "id": "ab135689-a4e8-435f-a867-eba1e01a0734",
   "metadata": {},
   "outputs": [
    {
     "data": {
      "text/plain": [
       "array([ 8, 19])"
      ]
     },
     "execution_count": 7,
     "metadata": {},
     "output_type": "execute_result"
    }
   ],
   "source": [
    "# Utiliser la méthode sum sur l'un des axes de mon tableau\n",
    "## Axe 0 \n",
    "A.sum(axis = 0) # somme des x\n",
    "## Axe 1\n",
    "A.sum(axis = 1) # somme des y"
   ]
  },
  {
   "cell_type": "markdown",
   "id": "e9e43266-ddb3-4db3-b3fc-4f7e484337a9",
   "metadata": {},
   "source": [
    "### Utilisation de plusieurs méthodes"
   ]
  },
  {
   "cell_type": "code",
   "execution_count": 8,
   "id": "de6aa386-01ae-4945-988f-67ea61c0b564",
   "metadata": {},
   "outputs": [
    {
     "data": {
      "text/plain": [
       "array([ 5,  5,  8, 11, 18, 27])"
      ]
     },
     "execution_count": 8,
     "metadata": {},
     "output_type": "execute_result"
    }
   ],
   "source": [
    "# Somme cumulé\n",
    "A.cumsum()"
   ]
  },
  {
   "cell_type": "code",
   "execution_count": 10,
   "id": "78b4d39b-85ca-4361-9238-987a2e8e6d40",
   "metadata": {},
   "outputs": [
    {
     "data": {
      "text/plain": [
       "0"
      ]
     },
     "execution_count": 10,
     "metadata": {},
     "output_type": "execute_result"
    }
   ],
   "source": [
    "# Produit du tableau\n",
    "A.prod()"
   ]
  },
  {
   "cell_type": "code",
   "execution_count": 11,
   "id": "f9dcf546-b201-47b5-ae58-c8e790626af4",
   "metadata": {},
   "outputs": [
    {
     "data": {
      "text/plain": [
       "array([5, 0, 0, 0, 0, 0])"
      ]
     },
     "execution_count": 11,
     "metadata": {},
     "output_type": "execute_result"
    }
   ],
   "source": [
    "# Produit cumulé\n",
    "A.cumprod()"
   ]
  },
  {
   "cell_type": "code",
   "execution_count": 19,
   "id": "299135fe-9dd7-4f28-b6ff-15f55181aede",
   "metadata": {},
   "outputs": [
    {
     "data": {
      "text/plain": [
       "array([0, 3, 5])"
      ]
     },
     "execution_count": 19,
     "metadata": {},
     "output_type": "execute_result"
    }
   ],
   "source": [
    "A.min(axis=0)"
   ]
  },
  {
   "cell_type": "code",
   "execution_count": 13,
   "id": "b25cabef-884e-491a-83f8-252f22e52b61",
   "metadata": {},
   "outputs": [
    {
     "data": {
      "text/plain": [
       "9"
      ]
     },
     "execution_count": 13,
     "metadata": {},
     "output_type": "execute_result"
    }
   ],
   "source": [
    "A.max()"
   ]
  },
  {
   "cell_type": "code",
   "execution_count": 14,
   "id": "5bf7b48c-33ec-4385-87ee-2a8e5cbc278d",
   "metadata": {},
   "outputs": [
    {
     "data": {
      "text/plain": [
       "1"
      ]
     },
     "execution_count": 14,
     "metadata": {},
     "output_type": "execute_result"
    }
   ],
   "source": [
    "A.argmin() # sert à trouver la position du minimum"
   ]
  },
  {
   "cell_type": "code",
   "execution_count": 20,
   "id": "bca5ff40-fc11-40be-93d8-0194d28ce97c",
   "metadata": {},
   "outputs": [
    {
     "data": {
      "text/plain": [
       "5"
      ]
     },
     "execution_count": 20,
     "metadata": {},
     "output_type": "execute_result"
    }
   ],
   "source": [
    "A.argmax() # sert à trouver la position du maximum"
   ]
  },
  {
   "cell_type": "code",
   "execution_count": 17,
   "id": "a4978464-3c2f-4b66-be06-f92ef49a44ce",
   "metadata": {},
   "outputs": [
    {
     "data": {
      "text/plain": [
       "array([[0, 3, 5],\n",
       "       [3, 7, 9]])"
      ]
     },
     "execution_count": 17,
     "metadata": {},
     "output_type": "execute_result"
    }
   ],
   "source": [
    "A.sort()\n",
    "A"
   ]
  },
  {
   "cell_type": "code",
   "execution_count": 24,
   "id": "a0a8349a-0f4a-4ad2-b211-0068559dc116",
   "metadata": {},
   "outputs": [
    {
     "data": {
      "text/plain": [
       "array([2, 0, 1, 3], dtype=int64)"
      ]
     },
     "execution_count": 24,
     "metadata": {},
     "output_type": "execute_result"
    }
   ],
   "source": [
    "# méthode argsort()\n",
    "## Permet de retourner la façon de retourner nos différents index afin d'avoir trier notre tableau du plus grand au plus petit ou inversement\n",
    "## Utile pour effectuer des classements un peu sophistiqué dans un tableau numpy\n",
    "# Exemple : \n",
    "ex =   [1, 3, -2, 5]\n",
    "# index 0, 1,  2, 3\n",
    "np.argsort(ex)"
   ]
  },
  {
   "cell_type": "code",
   "execution_count": 25,
   "id": "257e5432-59ae-4742-b4bf-a9a482a6ccda",
   "metadata": {},
   "outputs": [
    {
     "data": {
      "text/plain": [
       "array([ 0.54030231, -0.9899925 , -0.41614684,  0.28366219])"
      ]
     },
     "execution_count": 25,
     "metadata": {},
     "output_type": "execute_result"
    }
   ],
   "source": [
    "np.cos(ex)"
   ]
  },
  {
   "cell_type": "markdown",
   "id": "68b2c7d5-f01f-4c5a-ad0b-1417fa86a58a",
   "metadata": {},
   "source": [
    "# Statistiques avec NumPy"
   ]
  },
  {
   "cell_type": "code",
   "execution_count": 26,
   "id": "231bcb13-5097-4adf-9572-e2928960c970",
   "metadata": {},
   "outputs": [
    {
     "data": {
      "text/plain": [
       "array([[0, 3, 5],\n",
       "       [3, 7, 9]])"
      ]
     },
     "execution_count": 26,
     "metadata": {},
     "output_type": "execute_result"
    }
   ],
   "source": [
    "A"
   ]
  },
  {
   "cell_type": "code",
   "execution_count": 27,
   "id": "f2090e52-d6a6-4fa7-abd3-96d8ab4bde6d",
   "metadata": {},
   "outputs": [
    {
     "data": {
      "text/plain": [
       "4.5"
      ]
     },
     "execution_count": 27,
     "metadata": {},
     "output_type": "execute_result"
    }
   ],
   "source": [
    "A.mean()"
   ]
  },
  {
   "cell_type": "code",
   "execution_count": 29,
   "id": "51759286-6ea7-47c4-b6d6-3d374059fe91",
   "metadata": {},
   "outputs": [
    {
     "data": {
      "text/plain": [
       "2.9297326385411577"
      ]
     },
     "execution_count": 29,
     "metadata": {},
     "output_type": "execute_result"
    }
   ],
   "source": [
    "A.std()"
   ]
  },
  {
   "cell_type": "code",
   "execution_count": 30,
   "id": "5bb9af4a-51e3-41f3-a4e4-6c77e9c36543",
   "metadata": {},
   "outputs": [
    {
     "data": {
      "text/plain": [
       "8.583333333333334"
      ]
     },
     "execution_count": 30,
     "metadata": {},
     "output_type": "execute_result"
    }
   ],
   "source": [
    "A.var()"
   ]
  },
  {
   "cell_type": "code",
   "execution_count": 34,
   "id": "7447bcb9-a134-47f5-b6a5-027e22d31d57",
   "metadata": {},
   "outputs": [
    {
     "data": {
      "text/plain": [
       "array([[1.        , 0.99717646],\n",
       "       [0.99717646, 1.        ]])"
      ]
     },
     "execution_count": 34,
     "metadata": {},
     "output_type": "execute_result"
    }
   ],
   "source": [
    "# fonction corrcoef --> correlation coeficient\n",
    "## Permet de tracer une matrice de correlation entre les différentes lignes/colonnes dans notre tableau A \n",
    "## ou de n'importe quel tableau différent\n",
    "np.corrcoef(A)"
   ]
  },
  {
   "cell_type": "code",
   "execution_count": 36,
   "id": "c0ff405a-9c01-4d43-ac17-38510ac29cd2",
   "metadata": {},
   "outputs": [
    {
     "data": {
      "text/plain": [
       "0.997176464952738"
      ]
     },
     "execution_count": 36,
     "metadata": {},
     "output_type": "execute_result"
    }
   ],
   "source": [
    "# si on veut accéder à un élément en particulier de notre matrice on fait comme pour de l'indexing classique\n",
    "np.corrcoef(A)[0,1]"
   ]
  },
  {
   "cell_type": "markdown",
   "id": "1b7fe0b7-afec-48fb-832a-e30d7d0a8de0",
   "metadata": {},
   "source": [
    "### Fonction np.unique\n",
    "##### Permet de retourner un tableau contenant les différentes entité présente dans notre tableau numpy mais également le nb de répétitions pour chacune de ces entités"
   ]
  },
  {
   "cell_type": "code",
   "execution_count": 38,
   "id": "cbcbff3c-bcab-41b4-8c74-df8811715f32",
   "metadata": {},
   "outputs": [
    {
     "data": {
      "text/plain": [
       "(array([0, 3, 5, 7, 9]), array([1, 2, 1, 1, 1], dtype=int64))"
      ]
     },
     "execution_count": 38,
     "metadata": {},
     "output_type": "execute_result"
    }
   ],
   "source": [
    "np.unique(A, return_counts = True) # utile pour les très grand dataset"
   ]
  },
  {
   "cell_type": "code",
   "execution_count": 39,
   "id": "c6eb0806-640c-466a-8162-b47d36580b61",
   "metadata": {},
   "outputs": [
    {
     "data": {
      "text/plain": [
       "array([[5, 0, 3, 3, 7],\n",
       "       [9, 3, 5, 2, 4],\n",
       "       [7, 6, 8, 8, 1],\n",
       "       [6, 7, 7, 8, 1],\n",
       "       [5, 9, 8, 9, 4]])"
      ]
     },
     "execution_count": 39,
     "metadata": {},
     "output_type": "execute_result"
    }
   ],
   "source": [
    "np.random.seed(0)\n",
    "B = np.random.randint(0,10, [5,5])\n",
    "B"
   ]
  },
  {
   "cell_type": "code",
   "execution_count": 40,
   "id": "db143c76-3ef4-43de-8871-8b7ce336e009",
   "metadata": {},
   "outputs": [
    {
     "data": {
      "text/plain": [
       "(array([0, 1, 2, 3, 4, 5, 6, 7, 8, 9]),\n",
       " array([1, 2, 1, 3, 2, 3, 2, 4, 4, 3], dtype=int64))"
      ]
     },
     "execution_count": 40,
     "metadata": {},
     "output_type": "execute_result"
    }
   ],
   "source": [
    "np.unique(B, return_counts = True)"
   ]
  },
  {
   "cell_type": "code",
   "execution_count": 41,
   "id": "30e8ac2a-a9b9-43a7-a5d6-dcf5ae104611",
   "metadata": {},
   "outputs": [],
   "source": [
    "# c'est ici que argsort() est utile\n",
    "values, counts = np.unique(B, return_counts = True)"
   ]
  },
  {
   "cell_type": "code",
   "execution_count": 42,
   "id": "f0ca7a22-00dc-4fbb-81d9-489c4af633c6",
   "metadata": {},
   "outputs": [
    {
     "data": {
      "text/plain": [
       "array([1, 2, 1, 3, 2, 3, 2, 4, 4, 3], dtype=int64)"
      ]
     },
     "execution_count": 42,
     "metadata": {},
     "output_type": "execute_result"
    }
   ],
   "source": [
    "counts"
   ]
  },
  {
   "cell_type": "code",
   "execution_count": 43,
   "id": "dc31000b-d403-4381-be95-4bb916a24bc0",
   "metadata": {},
   "outputs": [
    {
     "data": {
      "text/plain": [
       "array([0, 2, 1, 4, 6, 3, 5, 9, 7, 8], dtype=int64)"
      ]
     },
     "execution_count": 43,
     "metadata": {},
     "output_type": "execute_result"
    }
   ],
   "source": [
    "# renvoie un tableau des différents index qui permettent de trier counts\n",
    "counts.argsort() # Si on veut trier counts il faut placer les index dans l'ordre renvoyé par la fonction pour trier du plus petit au plus grand"
   ]
  },
  {
   "cell_type": "code",
   "execution_count": 44,
   "id": "9bf47267-b3bb-4f17-b87a-db9bbd9417cd",
   "metadata": {},
   "outputs": [
    {
     "data": {
      "text/plain": [
       "array([0, 2, 1, 4, 6, 3, 5, 9, 7, 8])"
      ]
     },
     "execution_count": 44,
     "metadata": {},
     "output_type": "execute_result"
    }
   ],
   "source": [
    "# Injection dans le tableau values\n",
    "values[counts.argsort()]"
   ]
  },
  {
   "cell_type": "code",
   "execution_count": 48,
   "id": "9b58af3f-b699-4a87-afc9-0f76d0e0b92c",
   "metadata": {},
   "outputs": [
    {
     "name": "stdout",
     "output_type": "stream",
     "text": [
      " la valeur 0 apparait 1 fois\n",
      " la valeur 2 apparait 1 fois\n",
      " la valeur 1 apparait 2 fois\n",
      " la valeur 4 apparait 2 fois\n",
      " la valeur 6 apparait 2 fois\n",
      " la valeur 3 apparait 3 fois\n",
      " la valeur 5 apparait 3 fois\n",
      " la valeur 9 apparait 3 fois\n",
      " la valeur 7 apparait 4 fois\n",
      " la valeur 8 apparait 4 fois\n"
     ]
    }
   ],
   "source": [
    "for i, j in zip(values[counts.argsort()], counts[counts.argsort()]):\n",
    "    print(f' la valeur {i} apparait {j} fois')\n",
    "    "
   ]
  },
  {
   "cell_type": "markdown",
   "id": "a9fc2d43-ace7-40b6-8559-96cd01b1ebea",
   "metadata": {},
   "source": [
    "# NAN Corrections"
   ]
  },
  {
   "cell_type": "code",
   "execution_count": 131,
   "id": "80b3d87e-240c-4678-ba2f-e89e135713b2",
   "metadata": {},
   "outputs": [
    {
     "data": {
      "text/plain": [
       "array([[-0.8151513 , -0.12782898,         nan, -1.91439344, -1.90013433],\n",
       "       [-1.23468775,  0.11699649, -2.08035134, -0.64262051,  0.68702441],\n",
       "       [ 2.0385073 , -0.58876556, -2.71823258, -0.78947723,  0.25369995],\n",
       "       [ 0.17252846,  0.99701929,  0.54905957,  0.22824135, -0.60755365],\n",
       "       [ 0.20193034,  0.13320537, -0.81296416,         nan, -0.05981476]])"
      ]
     },
     "execution_count": 131,
     "metadata": {},
     "output_type": "execute_result"
    }
   ],
   "source": [
    "A = np.random.randn(5,5)\n",
    "A[0,2] = np.nan\n",
    "A[4,3] = np.nan\n",
    "A\n",
    "# ici on ne peu pas calculer n'importe quelle statistiques à cause des valeurs NaN\n",
    "# Il existe cependant des méthodes pours traiter avec ces valeurs NaN (notamment avec Pandas)"
   ]
  },
  {
   "cell_type": "code",
   "execution_count": 132,
   "id": "fb8cb707-721f-4d15-8b13-517817afc4b7",
   "metadata": {},
   "outputs": [
    {
     "data": {
      "text/plain": [
       "1.0693497830043748"
      ]
     },
     "execution_count": 132,
     "metadata": {},
     "output_type": "execute_result"
    }
   ],
   "source": [
    "np.nanstd(A)"
   ]
  },
  {
   "cell_type": "code",
   "execution_count": 134,
   "id": "92f16b21-af3b-4628-b6a4-414d639e36d6",
   "metadata": {},
   "outputs": [
    {
     "data": {
      "text/plain": [
       "2"
      ]
     },
     "execution_count": 134,
     "metadata": {},
     "output_type": "execute_result"
    }
   ],
   "source": [
    "# comment compter le nombre de NaN dans notre fonction\n",
    "np.isnan(A).sum()"
   ]
  },
  {
   "cell_type": "code",
   "execution_count": 135,
   "id": "2e8b93cd-9691-4fd3-aefe-35320e66a4ea",
   "metadata": {},
   "outputs": [
    {
     "data": {
      "text/plain": [
       "0.08"
      ]
     },
     "execution_count": 135,
     "metadata": {},
     "output_type": "execute_result"
    }
   ],
   "source": [
    "# connaitre le rapport de NaN par rapport à la taille de notre tableau\n",
    "np.isnan(A).sum()/A.size"
   ]
  },
  {
   "cell_type": "code",
   "execution_count": 137,
   "id": "e6430713-04c4-4b06-b8a2-28db7ae51e84",
   "metadata": {},
   "outputs": [
    {
     "data": {
      "text/plain": [
       "array([[-0.8151513 , -0.12782898,  0.        , -1.91439344, -1.90013433],\n",
       "       [-1.23468775,  0.11699649, -2.08035134, -0.64262051,  0.68702441],\n",
       "       [ 2.0385073 , -0.58876556, -2.71823258, -0.78947723,  0.25369995],\n",
       "       [ 0.17252846,  0.99701929,  0.54905957,  0.22824135, -0.60755365],\n",
       "       [ 0.20193034,  0.13320537, -0.81296416,  0.        , -0.05981476]])"
      ]
     },
     "execution_count": 137,
     "metadata": {},
     "output_type": "execute_result"
    }
   ],
   "source": [
    "# comment se débarasser des NaN avec le Boolean Indexing\n",
    "A[np.isnan(A)] = 0\n",
    "A"
   ]
  },
  {
   "cell_type": "markdown",
   "id": "b19dfd3b-d194-473d-b00e-e68d1f7ef0da",
   "metadata": {},
   "source": [
    "# Algèbre Linéaire"
   ]
  },
  {
   "cell_type": "code",
   "execution_count": 138,
   "id": "ccf6e148-3232-4c5d-871b-ed9963281b1a",
   "metadata": {},
   "outputs": [
    {
     "data": {
      "text/plain": [
       "array([[1., 1., 1.],\n",
       "       [1., 1., 1.]])"
      ]
     },
     "execution_count": 138,
     "metadata": {},
     "output_type": "execute_result"
    }
   ],
   "source": [
    "A = np.ones((2,3))\n",
    "B = np.ones((3,2))\n",
    "A"
   ]
  },
  {
   "cell_type": "code",
   "execution_count": 139,
   "id": "da309dfc-6332-4669-9987-b1bfcd07b926",
   "metadata": {},
   "outputs": [
    {
     "data": {
      "text/plain": [
       "array([[1., 1.],\n",
       "       [1., 1.],\n",
       "       [1., 1.]])"
      ]
     },
     "execution_count": 139,
     "metadata": {},
     "output_type": "execute_result"
    }
   ],
   "source": [
    "B"
   ]
  },
  {
   "cell_type": "code",
   "execution_count": 140,
   "id": "00413c17-576c-42f2-aa07-db724a55c69c",
   "metadata": {},
   "outputs": [
    {
     "data": {
      "text/plain": [
       "array([[1., 1.],\n",
       "       [1., 1.],\n",
       "       [1., 1.]])"
      ]
     },
     "execution_count": 140,
     "metadata": {},
     "output_type": "execute_result"
    }
   ],
   "source": [
    "A.T # Obtenir la transposée de ma matrice"
   ]
  },
  {
   "cell_type": "code",
   "execution_count": 141,
   "id": "fcefa75b-7a63-494b-92e4-e4c0268db73a",
   "metadata": {},
   "outputs": [
    {
     "data": {
      "text/plain": [
       "array([[3., 3.],\n",
       "       [3., 3.]])"
      ]
     },
     "execution_count": 141,
     "metadata": {},
     "output_type": "execute_result"
    }
   ],
   "source": [
    "# Produit matriciel entre A et B\n",
    "A.dot(B)"
   ]
  },
  {
   "cell_type": "code",
   "execution_count": 142,
   "id": "b3b2fb13-aaaa-409b-a62c-c64acf8a61ec",
   "metadata": {},
   "outputs": [
    {
     "data": {
      "text/plain": [
       "array([[2., 2., 2.],\n",
       "       [2., 2., 2.],\n",
       "       [2., 2., 2.]])"
      ]
     },
     "execution_count": 142,
     "metadata": {},
     "output_type": "execute_result"
    }
   ],
   "source": [
    "B.dot(A) # non commutatives"
   ]
  },
  {
   "cell_type": "code",
   "execution_count": 143,
   "id": "896e2713-7fc0-4bc0-bf62-513a7c492e5c",
   "metadata": {},
   "outputs": [
    {
     "data": {
      "text/plain": [
       "array([[1, 6, 4],\n",
       "       [0, 0, 2],\n",
       "       [7, 6, 6]])"
      ]
     },
     "execution_count": 143,
     "metadata": {},
     "output_type": "execute_result"
    }
   ],
   "source": [
    "# Package numpy.linalg pour faire tout ça\n",
    "A = np.random.randint(0,10, [3,3])\n",
    "A"
   ]
  },
  {
   "cell_type": "code",
   "execution_count": 144,
   "id": "c5ecf47e-e5c4-4757-8059-bf23a64e8906",
   "metadata": {},
   "outputs": [
    {
     "data": {
      "text/plain": [
       "72.0"
      ]
     },
     "execution_count": 144,
     "metadata": {},
     "output_type": "execute_result"
    }
   ],
   "source": [
    "np.linalg.det(A)"
   ]
  },
  {
   "cell_type": "code",
   "execution_count": 147,
   "id": "87a97a88-d4d9-46fa-b298-d68e8ed4764f",
   "metadata": {},
   "outputs": [
    {
     "data": {
      "text/plain": [
       "array([[-0.16666667, -0.16666667,  0.16666667],\n",
       "       [ 0.19444444, -0.30555556, -0.02777778],\n",
       "       [ 0.        ,  0.5       ,  0.        ]])"
      ]
     },
     "execution_count": 147,
     "metadata": {},
     "output_type": "execute_result"
    }
   ],
   "source": [
    "np.linalg.inv(A)"
   ]
  },
  {
   "cell_type": "code",
   "execution_count": 148,
   "id": "ce212a70-d55d-488e-ac58-7faf7f8e4967",
   "metadata": {},
   "outputs": [
    {
     "data": {
      "text/plain": [
       "array([[-1.66666667e-01, -1.66666667e-01,  1.66666667e-01],\n",
       "       [ 1.94444444e-01, -3.05555556e-01, -2.77777778e-02],\n",
       "       [-5.55111512e-17,  5.00000000e-01,  2.42861287e-17]])"
      ]
     },
     "execution_count": 148,
     "metadata": {},
     "output_type": "execute_result"
    }
   ],
   "source": [
    "# si il y a des compinaison linéaires dans mes matrices \n",
    "np.linalg.pinv(A)"
   ]
  },
  {
   "cell_type": "code",
   "execution_count": 150,
   "id": "41b33b07-c359-4146-a279-3309fbdfec8d",
   "metadata": {},
   "outputs": [
    {
     "data": {
      "text/plain": [
       "EigResult(eigenvalues=array([10.77542909+0.j        , -1.88771455+1.76589985j,\n",
       "       -1.88771455-1.76589985j]), eigenvectors=array([[ 0.45737756+0.j        ,  0.40563353-0.44529258j,\n",
       "         0.40563353+0.44529258j],\n",
       "       [ 0.16228394+0.j        ,  0.35671669+0.33369767j,\n",
       "         0.35671669-0.33369767j],\n",
       "       [ 0.87433957+0.j        , -0.63132798+0.j        ,\n",
       "        -0.63132798-0.j        ]]))"
      ]
     },
     "execution_count": 150,
     "metadata": {},
     "output_type": "execute_result"
    }
   ],
   "source": [
    "np.linalg.eig(A) # eig pour eigen value qui veut dire valeur propre"
   ]
  },
  {
   "cell_type": "markdown",
   "id": "14b42be6-4158-4767-8ec3-e7b539026109",
   "metadata": {},
   "source": [
    "# Exercice"
   ]
  },
  {
   "cell_type": "code",
   "execution_count": 154,
   "id": "10ba63bd-02e3-4735-9293-c245fd69c41d",
   "metadata": {},
   "outputs": [
    {
     "data": {
      "text/plain": [
       "array([[44, 47, 64, 67, 67],\n",
       "       [ 9, 83, 21, 36, 87],\n",
       "       [70, 88, 88, 12, 58],\n",
       "       [65, 39, 87, 46, 88],\n",
       "       [81, 37, 25, 77, 72],\n",
       "       [ 9, 20, 80, 69, 79],\n",
       "       [47, 64, 82, 99, 88],\n",
       "       [49, 29, 19, 19, 14],\n",
       "       [39, 32, 65,  9, 57],\n",
       "       [32, 31, 74, 23, 35]])"
      ]
     },
     "execution_count": 154,
     "metadata": {},
     "output_type": "execute_result"
    }
   ],
   "source": [
    "np.random.seed(0)\n",
    "A = np.random.randint(0,100, [10,5])\n",
    "A"
   ]
  },
  {
   "cell_type": "markdown",
   "id": "3c5e00a6-6120-4166-99c1-29e1b2bc7499",
   "metadata": {},
   "source": [
    "### Standardiser notre matrice avec une méthode précise"
   ]
  },
  {
   "cell_type": "markdown",
   "id": "6dea7a38-a4a7-4caf-a01b-74851c7b3bbd",
   "metadata": {},
   "source": [
    "##### Prendre notre tableau, le soustraire à la moyenne et à diviser par l'écart-type\n",
    "##### on doit réaliser cette méthode sur chaque colonne du tableau"
   ]
  },
  {
   "cell_type": "code",
   "execution_count": null,
   "id": "395b5f87-347e-48e1-a3c5-833928394ee3",
   "metadata": {},
   "outputs": [],
   "source": []
  },
  {
   "cell_type": "code",
   "execution_count": null,
   "id": "915dda15-e068-414c-b5f4-0582f25273e7",
   "metadata": {},
   "outputs": [],
   "source": []
  }
 ],
 "metadata": {
  "kernelspec": {
   "display_name": "Python 3 (ipykernel)",
   "language": "python",
   "name": "python3"
  },
  "language_info": {
   "codemirror_mode": {
    "name": "ipython",
    "version": 3
   },
   "file_extension": ".py",
   "mimetype": "text/x-python",
   "name": "python",
   "nbconvert_exporter": "python",
   "pygments_lexer": "ipython3",
   "version": "3.12.7"
  }
 },
 "nbformat": 4,
 "nbformat_minor": 5
}
